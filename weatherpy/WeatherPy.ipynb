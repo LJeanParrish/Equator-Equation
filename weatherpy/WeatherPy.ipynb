{
 "cells": [
  {
   "cell_type": "code",
   "execution_count": null,
   "metadata": {},
   "outputs": [],
   "source": [
    "# WeatherPy\n",
    "----\n",
    "\n",
    "#### Note\n",
    "* Instructions have been included for each segment. You do not have to follow them exactly, but they are included to help you think through the steps."
   ]
  },
  {
   "cell_type": "markdown",
   "metadata": {},
   "source": [
    "## Generate Cities List"
   ]
  },
  {
   "cell_type": "code",
   "execution_count": 1,
   "metadata": {
    "scrolled": false
   },
   "outputs": [],
   "source": [
    "# Dependencies and Setup\n",
    "import matplotlib.pyplot as plt\n",
    "import pandas as pd\n",
    "import numpy as np\n",
    "import requests\n",
    "import time\n",
    "import json\n",
    "from scipy.stats import linregress\n",
    "\n",
    "# Import API key\n",
    "from api_keys import weather_api_key\n",
    "\n",
    "# Incorporated citipy to determine city based on latitude and longitude\n",
    "from citipy import citipy\n",
    "\n",
    "# Output File (CSV)\n",
    "output_data_file = \"output_data/cities.csv\"\n",
    "\n",
    "# Range of latitudes and longitudes\n",
    "lat_range = (-90, 90)\n",
    "lng_range = (-180, 180)"
   ]
  },
  {
   "cell_type": "code",
   "execution_count": 2,
   "metadata": {},
   "outputs": [
    {
     "data": {
      "text/plain": [
       "611"
      ]
     },
     "execution_count": 2,
     "metadata": {},
     "output_type": "execute_result"
    }
   ],
   "source": [
    "# List for holding lat_lngs and cities\n",
    "lat_lngs = []\n",
    "cities = []\n",
    "\n",
    "# Create a set of random lat and lng combinations\n",
    "lats = np.random.uniform(lat_range[0], lat_range[1], size=1500)\n",
    "lngs = np.random.uniform(lng_range[0], lng_range[1], size=1500)\n",
    "lat_lngs = zip(lats, lngs)\n",
    "\n",
    "# Identify nearest city for each lat, lng combination\n",
    "for lat_lng in lat_lngs:\n",
    "    city = citipy.nearest_city(lat_lng[0], lat_lng[1]).city_name\n",
    "    \n",
    "    # If the city is unique, then add it to a our cities list\n",
    "    if city not in cities:\n",
    "        cities.append(city)\n",
    "\n",
    "# Print the city count to confirm sufficient count\n",
    "len(cities)"
   ]
  },
  {
   "cell_type": "markdown",
   "metadata": {},
   "source": [
    "### Perform API Calls\n",
    "* Perform a weather check on each city using a series of successive API calls.\n",
    "* Include a print log of each city as it'sbeing processed (with the city number and city name).\n"
   ]
  },
  {
   "cell_type": "code",
   "execution_count": 3,
   "metadata": {},
   "outputs": [],
   "source": [
    "# Save config information.\n",
    "url = \"http://api.openweathermap.org/data/2.5/weather?\"\n",
    "\n",
    "# Build partial query URL\n",
    "query_url = url + \"appid=\" + weather_api_key + \"&q=\" + city"
   ]
  },
  {
   "cell_type": "code",
   "execution_count": 4,
   "metadata": {},
   "outputs": [
    {
     "name": "stdout",
     "output_type": "stream",
     "text": [
      "200\n"
     ]
    }
   ],
   "source": [
    "# Get weather data\n",
    "weather_response = requests.get(query_url)\n",
    "print(weather_response.status_code)\n",
    "\n",
    "weather_json = weather_response.json()\n",
    "\n",
    "#print(json.dumps(weather_json, indent=4, sort_keys=True))"
   ]
  },
  {
   "cell_type": "code",
   "execution_count": null,
   "metadata": {
    "scrolled": true
   },
   "outputs": [],
   "source": [
    "###############NEED HELP SETTING THIS UP##################\n",
    "#Create a list to store the weather data\n",
    "lat = []\n",
    "lng = []\n",
    "maxtemp = []\n",
    "humid = []\n",
    "cloud = []\n",
    "wind = []\n",
    "country = []\n",
    "date = []\n",
    "\n",
    "#loop through data to retreive weather information\n",
    "for each city in cities:\n",
    "    weather_json = weather_response.json()\n",
    "    weather_response = requests.get(query_url + city).json()\n",
    "    lat.append(weather_json['coord']['lat'])\n",
    "    lng.append(weather_json['coord']['lon'])\n",
    "    maxtemp.append(weather_json['main']['temp_max'])\n",
    "    humid.append(weather_json['main']['humidity'])\n",
    "    cloud.append(weather_json['clouds']['all'])\n",
    "    wind.append(weather_json['wind']['speed'])\n",
    "    country.append(weather_json['sys']['country'])\n",
    "    date.append(weather_json['dt'])\n",
    "    \n",
    "    #Create a print log for each city as processed\n",
    "    logging.info()"
   ]
  },
  {
   "cell_type": "markdown",
   "metadata": {},
   "source": [
    "### Convert Raw Data to DataFrame\n",
    "* Export the city data into a .csv.\n",
    "* Display the DataFrame"
   ]
  },
  {
   "cell_type": "code",
   "execution_count": null,
   "metadata": {},
   "outputs": [],
   "source": [
    "# create a data frame containing the weather data for the cities\n",
    "weather_dict = {\n",
    "    \"City\": cities,\n",
    "    \"Lat\": lat,\n",
    "    \"Lng\": lng,\n",
    "    \"Max Temp\": maxtemp,\n",
    "    \"Humidity\": humid,\n",
    "    \"Cloudiness\": cloud,\n",
    "    \"Wind Speed\": wind,\n",
    "    \"Country\": country,\n",
    "    \"Date\": date}\n",
    "\n",
    "city_df = pd.DataFrame(weather_dict)\n",
    "city_df.head()"
   ]
  },
  {
   "cell_type": "code",
   "execution_count": null,
   "metadata": {},
   "outputs": [],
   "source": [
    "#show the city_df data frame with statistical analysis applied\n",
    "city_df.describe()"
   ]
  },
  {
   "cell_type": "code",
   "execution_count": null,
   "metadata": {},
   "outputs": [],
   "source": [
    "# Export city data as a CSV\n",
    "city_df.to_csv(\"weatherpy/city_df.csv\", encoding=\"utf-8\", index=False, header=True)"
   ]
  },
  {
   "cell_type": "markdown",
   "metadata": {},
   "source": [
    "## Inspect the data and remove the cities where the humidity > 100%.\n",
    "----\n",
    "Skip this step if there are no cities that have humidity > 100%. "
   ]
  },
  {
   "cell_type": "code",
   "execution_count": null,
   "metadata": {},
   "outputs": [],
   "source": [
    "#Loop through city_df and remove rows where humidity is >100%\n",
    "high_humidity = []\n",
    "\n",
    "for city in city_df:\n",
    "    if city_df[\"Humidity\"] > 100:\n",
    "        high_humidity.append(city_df[\"Humidity\"])      "
   ]
  },
  {
   "cell_type": "code",
   "execution_count": null,
   "metadata": {},
   "outputs": [],
   "source": [
    "#  Get the indices of cities that have humidity over 100%.\n",
    "highhumidity = high_humidity\n",
    "highhumidity"
   ]
  },
  {
   "cell_type": "code",
   "execution_count": null,
   "metadata": {},
   "outputs": [],
   "source": [
    "# Make a new DataFrame equal to the city data to drop all humidity outliers by index.\n",
    "# Passing \"inplace=False\" will make a copy of the city_df, which we call \"clean_city_data\".\n",
    "clean_city_data = city_df.dropna([city_data[\"Humidity\"] > 100], inplace=False)\n",
    "\n",
    "#print clean weather_data\n",
    "clean_city_data.describe()"
   ]
  },
  {
   "cell_type": "markdown",
   "metadata": {},
   "source": [
    "## Plotting the Data\n",
    "* Use proper labeling of the plots using plot titles (including date of analysis) and axes labels.\n",
    "* Save the plotted figures as .pngs."
   ]
  },
  {
   "cell_type": "markdown",
   "metadata": {},
   "source": [
    "## Latitude vs. Temperature Plot"
   ]
  },
  {
   "cell_type": "code",
   "execution_count": null,
   "metadata": {
    "scrolled": true
   },
   "outputs": [],
   "source": [
    "#plat scatter for City Latitude vs. Max Temp on 04/01/20\n",
    "clat = clean_city_data['Lat']\n",
    "fmax_temp = group[\"\"]clean_city_data['Max Temp']\n",
    "\n",
    "#Second option only need to clean out the above lists\n",
    "# for each city in clean_city_data:\n",
    "#     clat.append(clean_city_data['Lat'])\n",
    "#     fmax_temp.append(clean_city_data['Max Temp'])\n",
    "\n",
    "plt.scatter(clat, fmax_temp, marker=\"o\", facecolors=\"blue\", edgecolors=\"black\", s=clat, alpha=0.75)\n",
    "\n",
    "#set x and y limits\n",
    "plt.xlim(-60,70)\n",
    "plt.ylim(-20,110)\n",
    "\n",
    "plt.title(\"City Latitude vs. Max Temperature (04/01/20)\")\n",
    "plt.xlabel(\"Latitude\")\n",
    "plt.ylabel(\"Max Temperature (F)\")\n",
    "\n",
    "plt.grid()\n",
    "plt.show()"
   ]
  },
  {
   "cell_type": "markdown",
   "metadata": {},
   "source": [
    "## Latitude vs. Humidity Plot"
   ]
  },
  {
   "cell_type": "code",
   "execution_count": null,
   "metadata": {},
   "outputs": [],
   "source": [
    "#plat scatter for City Latitude vs. Humidity on 04/01/20\n",
    "clat = clean_city_data['Lat']\n",
    "chumidity = clean_city_data['Humidity']\n",
    "\n",
    "#Second option only need to clean out the above lists\n",
    "# for each city in clean_city_data:\n",
    "#     clat.append(clean_city_data['Lat'])\n",
    "#     chumidity.append(clean_city_data['Humidity']\n",
    "\n",
    "plt.scatter(clat, chumidity, marker=\"o\", facecolors=\"blue\", edgecolors=\"black\", s=clat, alpha=0.75)\n",
    "\n",
    "#set x and y limits\n",
    "plt.xlim(-60,70)\n",
    "plt.ylim(0,100)\n",
    "\n",
    "plt.title(\"City Latitude vs. Humidity (04/01/20)\")\n",
    "plt.xlabel(\"Latitude\")\n",
    "plt.ylabel(\"Humidity (%)\")\n",
    "\n",
    "plt.grid()\n",
    "plt.show()"
   ]
  },
  {
   "cell_type": "markdown",
   "metadata": {},
   "source": [
    "## Latitude vs. Cloudiness Plot"
   ]
  },
  {
   "cell_type": "code",
   "execution_count": null,
   "metadata": {},
   "outputs": [],
   "source": [
    "#plat scatter for City Latitude vs. Cloudiness on 04/01/20\n",
    "clat = clean_city_data['Lat']\n",
    "cclouds = clean_city_data['Cloudiness']\n",
    "\n",
    "#Second option only need to clean out the above lists\n",
    "# for each city in clean_city_data:\n",
    "#     clat.append(clean_city_data['Lat'])\n",
    "#     cclouds.append(clean_city_data['Cloudiness']\n",
    "\n",
    "plt.scatter(clat, cclouds, marker=\"o\", facecolors=\"blue\", edgecolors=\"black\", s=clat, alpha=0.75)\n",
    "\n",
    "#set x and y limits\n",
    "plt.xlim(-60,90)\n",
    "plt.ylim(0,110)\n",
    "\n",
    "plt.title(\"City Latitude vs. Cloudiness (04/01/20)\")\n",
    "plt.xlabel(\"Latitude\")\n",
    "plt.ylabel(\"Cloudiness (%)\")\n",
    "\n",
    "plt.grid()\n",
    "plt.show()"
   ]
  },
  {
   "cell_type": "markdown",
   "metadata": {},
   "source": [
    "## Latitude vs. Wind Speed Plot"
   ]
  },
  {
   "cell_type": "code",
   "execution_count": null,
   "metadata": {},
   "outputs": [],
   "source": [
    "#plat scatter for City Latitude vs. Cloudiness on 04/01/20\n",
    "clat = clean_city_data['Lat']\n",
    "cwind = clean_city_data['Wind Speed']\n",
    "\n",
    "#Second option only need to clean out the above lists\n",
    "# for each city in clean_city_data:\n",
    "#     clat.append(clean_city_data['Lat'])\n",
    "#     cwinds.append(clean_city_data['Wind Speed']\n",
    "\n",
    "plt.scatter(clat, cwind, marker=\"o\", facecolors=\"blue\", edgecolors=\"black\", s=clat, alpha=0.75)\n",
    "\n",
    "#set x and y limits\n",
    "plt.xlim(-60,90)\n",
    "plt.ylim(0,110)\n",
    "\n",
    "plt.title(\"City Latitude vs. Wind Speed (04/01/20)\")\n",
    "plt.xlabel(\"Latitude\")\n",
    "plt.ylabel(\"Wind Speed (mph)\")\n",
    "\n",
    "plt.grid()\n",
    "plt.show()"
   ]
  },
  {
   "cell_type": "markdown",
   "metadata": {},
   "source": [
    "## Linear Regression"
   ]
  },
  {
   "cell_type": "code",
   "execution_count": null,
   "metadata": {},
   "outputs": [],
   "source": []
  },
  {
   "cell_type": "markdown",
   "metadata": {},
   "source": [
    "####  Northern Hemisphere - Max Temp vs. Latitude Linear Regression"
   ]
  },
  {
   "cell_type": "code",
   "execution_count": null,
   "metadata": {},
   "outputs": [],
   "source": [
    "#Perform the linear regression on the scatter plot on Northern Hemisphere - Max Temp vs. Latitude\n",
    "nlat = []\n",
    "max_temp = group[\"\"]\n",
    "\n",
    "for city in clean_city_data:\n",
    "    if clean_city_data[\"Lat\"] >= 0:\n",
    "        nlat.append(clean_city_data['Lat'])\n",
    "        max_temp.append(clean_city_data['Max Temp'])    \n",
    "\n",
    "(slope, intercept, rvalue, pvalue, stderr) = st.linregress(nlat, max_temp)\n",
    "regress_values = nlat * slope + intercept\n",
    "line_eq = \"y = \" + str(round(slope,2)) + \"x + \" + str(round(intercept,2))\n",
    "plt.scatter(nlat, max_temp)\n",
    "plt.plot(lat, regress_values,\"r-\")\n",
    "plt.annotate(line_eq,(18,36),fontsize=15,color=\"red\")\n",
    "\n",
    "plt.title('Northern Hemisphere - Max Temp vs. Latitude Linear Regression')\n",
    "plt.xlabel('Latitude')\n",
    "plt.ylabel('Max Temp')\n",
    "plt.show()"
   ]
  },
  {
   "cell_type": "markdown",
   "metadata": {},
   "source": [
    "####  Southern Hemisphere - Max Temp vs. Latitude Linear Regression"
   ]
  },
  {
   "cell_type": "code",
   "execution_count": null,
   "metadata": {},
   "outputs": [],
   "source": [
    "#Perform the linear regression on the scatter plot on Southern Hemisphere - Max Temp vs. Latitude\n",
    "slat = []\n",
    "smax_temp = []\n",
    "\n",
    "for city in clean_city_data:\n",
    "    if clean_city_data[\"Lat\"] <= 0.1:\n",
    "        slat.append(clean_city_data['Lat'])\n",
    "        smax_temp.append(clean_city_data['Max Temp'])    \n",
    "\n",
    "(slope, intercept, rvalue, pvalue, stderr) = st.linregress(slat, smax_temp)\n",
    "regress_values = slat * slope + intercept\n",
    "line_eq = \"y = \" + str(round(slope,2)) + \"x + \" + str(round(intercept,2))\n",
    "plt.scatter(slat, smax_temp)\n",
    "plt.plot(slat, regress_values,\"r-\")\n",
    "plt.annotate(line_eq,(18,36),fontsize=15,color=\"red\")\n",
    "\n",
    "plt.title('Southern Hemisphere - Max Temp vs. Latitude Linear Regression')\n",
    "plt.xlabel('Latitude')\n",
    "plt.ylabel('Max Temp')\n",
    "plt.show()"
   ]
  },
  {
   "cell_type": "markdown",
   "metadata": {},
   "source": [
    "####  Northern Hemisphere - Humidity (%) vs. Latitude Linear Regression"
   ]
  },
  {
   "cell_type": "code",
   "execution_count": null,
   "metadata": {},
   "outputs": [],
   "source": [
    "#Perform the linear regression on the scatter plot on Northern Hemisphere - Humidity (%) vs. Latitude\n",
    "nlat = []\n",
    "humidity = []\n",
    "\n",
    "for city in clean_city_data:\n",
    "    if clean_city_data[\"Lat\"] >= 0:\n",
    "        nlat.append(clean_city_data['Lat'])\n",
    "        humidity.append(clean_city_data['Humidity'])  \n",
    "\n",
    "(slope, intercept, rvalue, pvalue, stderr) = st.linregress(nlat, humidity)\n",
    "regress_values = nlat * slope + intercept\n",
    "line_eq = \"y = \" + str(round(slope,2)) + \"x + \" + str(round(intercept,2))\n",
    "plt.scatter(nlat, humidity)\n",
    "plt.plot(lat, regress_values,\"r-\")\n",
    "plt.annotate(line_eq,(18,36),fontsize=15,color=\"red\")\n",
    "\n",
    "plt.title('Northern Hemisphere - Humidity (%) vs. Latitude Linear Regression')\n",
    "plt.xlabel('Latitude')\n",
    "plt.ylabel('Max Temp')\n",
    "plt.show()"
   ]
  },
  {
   "cell_type": "markdown",
   "metadata": {},
   "source": [
    "####  Southern Hemisphere - Humidity (%) vs. Latitude Linear Regression"
   ]
  },
  {
   "cell_type": "code",
   "execution_count": null,
   "metadata": {},
   "outputs": [],
   "source": [
    "#Perform the linear regression on the scatter plot on Southern Hemisphere - Humidity (%) vs. Latitude\n",
    "slat = []\n",
    "shumidity = []\n",
    "\n",
    "for city in clean_city_data:\n",
    "    if clean_city_data[\"Lat\"] <= 0.1:\n",
    "        slat.append(clean_city_data['Lat'])\n",
    "        shumidity.append(clean_city_data['Humidity']\n",
    "                                         \n",
    "(slope, intercept, rvalue, pvalue, stderr) = st.linregress(slat,shumidity)\n",
    "regress_values = slat * slope + intercept\n",
    "line_eq = \"y = \" + str(round(slope,2)) + \"x + \" + str(round(intercept,2))\n",
    "plt.scatter(slat, shumidity)\n",
    "plt.plot(slat, regress_values,\"r-\")\n",
    "plt.annotate(line_eq,(18,36),fontsize=15,color=\"red\")\n",
    "\n",
    "plt.title('Southern Hemisphere - Humidity (%) vs. Latitude Linear Regression')\n",
    "plt.xlabel('Latitude')\n",
    "plt.ylabel('Max Temp')\n",
    "plt.show()"
   ]
  },
  {
   "cell_type": "markdown",
   "metadata": {},
   "source": [
    "####  Northern Hemisphere - Cloudiness (%) vs. Latitude Linear Regression"
   ]
  },
  {
   "cell_type": "code",
   "execution_count": null,
   "metadata": {},
   "outputs": [],
   "source": [
    "#Perform the linear regression on the scatter plot on Northern Hemisphere - Cloudiness (%) vs. Latitude\n",
    "nlat = []\n",
    "clouds = []\n",
    "\n",
    "for city in clean_city_data:\n",
    "    if clean_city_data[\"Lat\"] >= 0:\n",
    "        nlat.append(clean_city_data['Lat'])\n",
    "        clouds.append(clean_city_data['Cloudiness']) \n",
    "\n",
    "(slope, intercept, rvalue, pvalue, stderr) = st.linregress(nlat, clouds)\n",
    "regress_values = nlat * slope + intercept\n",
    "line_eq = \"y = \" + str(round(slope,2)) + \"x + \" + str(round(intercept,2))\n",
    "plt.scatter(nlat, clouds)\n",
    "plt.plot(lat, regress_values,\"r-\")\n",
    "plt.annotate(line_eq,(18,36),fontsize=15,color=\"red\")\n",
    "\n",
    "plt.title('Northern Hemisphere - Cloudiness (%) vs. Latitude Linear Regression')\n",
    "plt.xlabel('Latitude)')\n",
    "plt.ylabel('Cloudiness')\n",
    "plt.show()"
   ]
  },
  {
   "cell_type": "markdown",
   "metadata": {},
   "source": [
    "####  Southern Hemisphere - Cloudiness (%) vs. Latitude Linear Regression"
   ]
  },
  {
   "cell_type": "code",
   "execution_count": null,
   "metadata": {},
   "outputs": [],
   "source": [
    "#Perform the linear regression on the scatter plot on Southern Hemisphere - Cloudiness (%) vs. Latitude\n",
    "slat = []\n",
    "sclouds = []\n",
    "\n",
    "for city in clean_city_data:\n",
    "    if clean_city_data[\"Lat\"] <= 0.1:\n",
    "        slat.append(clean_city_data['Lat'])\n",
    "        sclouds.append(clean_city_data['Cloudiness']\n",
    "\n",
    "(slope, intercept, rvalue, pvalue, stderr) = st.linregress(slat, sclouds)\n",
    "regress_values = slat * slope + intercept\n",
    "line_eq = \"y = \" + str(round(slope,2)) + \"x + \" + str(round(intercept,2))\n",
    "plt.scatter(slat, sclouds)\n",
    "plt.plot(slat, regress_values,\"r-\")\n",
    "plt.annotate(line_eq,(18,36),fontsize=15,color=\"red\")\n",
    "\n",
    "plt.title('Southern Hemisphere - Cloudiness (%) vs. Latitude Linear Regression')\n",
    "plt.xlabel('Latitude)')\n",
    "plt.ylabel('Cloudiness')\n",
    "plt.show()"
   ]
  },
  {
   "cell_type": "markdown",
   "metadata": {},
   "source": [
    "####  Northern Hemisphere - Wind Speed (mph) vs. Latitude Linear Regression"
   ]
  },
  {
   "cell_type": "code",
   "execution_count": null,
   "metadata": {},
   "outputs": [],
   "source": [
    "#Perform the linear regression on the scatter plot on Northern Hemisphere - Wind Speed (mph) vs. Latitude\n",
    "nlat = []\n",
    "wind = []\n",
    "\n",
    "\n",
    "for city in clean_city_data:\n",
    "    if clean_city_data[\"Lat\"] >= 0:\n",
    "        nlat.append(clean_city_data['Lat'])\n",
    "        wind.append(clean_city_data['Wind Speed']) \n",
    "\n",
    "(slope, intercept, rvalue, pvalue, stderr) = st.linregress(nlat, wind)\n",
    "regress_values = nlat * slope + intercept\n",
    "line_eq = \"y = \" + str(round(slope,2)) + \"x + \" + str(round(intercept,2))\n",
    "plt.scatter(nlat, wind)\n",
    "plt.plot(lat, regress_values,\"r-\")\n",
    "plt.annotate(line_eq,(18,36),fontsize=15,color=\"red\")\n",
    "\n",
    "plt.title('Northern Hemisphere - Wind Speed (mph) vs. Latitude Linear Regression')\n",
    "plt.xlabel('Latitude)')\n",
    "plt.ylabel('Wind Speed (mph)')\n",
    "plt.show()"
   ]
  },
  {
   "cell_type": "markdown",
   "metadata": {},
   "source": [
    "####  Southern Hemisphere - Wind Speed (mph) vs. Latitude Linear Regression"
   ]
  },
  {
   "cell_type": "code",
   "execution_count": null,
   "metadata": {},
   "outputs": [],
   "source": [
    "#Perform the linear regression on the scatter plot on Southern Hemisphere - Wind Speed (mph) vs. Latitude\n",
    "slat = []\n",
    "swind = []\n",
    "\n",
    "for city in clean_city_data:\n",
    "    if clean_city_data[\"Lat\"] <= 0.1:\n",
    "        slat.append(clean_city_data['Lat'])\n",
    "        swind.append(clean_city_data['Wind Speed']\n",
    "\n",
    "(slope, intercept, rvalue, pvalue, stderr) = st.linregress(slat,swind)\n",
    "regress_values = slat * slope + intercept\n",
    "line_eq = \"y = \" + str(round(slope,2)) + \"x + \" + str(round(intercept,2))\n",
    "plt.scatter(slat, swind)\n",
    "plt.plot(slat, regress_values,\"r-\")\n",
    "plt.annotate(line_eq,(18,36),fontsize=15,color=\"red\")\n",
    "\n",
    "plt.title('Southern Hemisphere - Wind Speed (mph) vs. Latitude Linear Regression')\n",
    "plt.xlabel('Latitude)')\n",
    "plt.ylabel('Wind Speed (mph)')\n",
    "plt.show()"
   ]
  },
  {
   "cell_type": "code",
   "execution_count": null,
   "metadata": {},
   "outputs": [],
   "source": []
  }
 ],
 "metadata": {
  "anaconda-cloud": {},
  "kernel_info": {
   "name": "python3"
  },
  "kernelspec": {
   "display_name": "PythonData2",
   "language": "python",
   "name": "pythondata2"
  },
  "language_info": {
   "codemirror_mode": {
    "name": "ipython",
    "version": 3
   },
   "file_extension": ".py",
   "mimetype": "text/x-python",
   "name": "python",
   "nbconvert_exporter": "python",
   "pygments_lexer": "ipython3",
   "version": "3.7.9"
  },
  "latex_envs": {
   "LaTeX_envs_menu_present": true,
   "autoclose": false,
   "autocomplete": true,
   "bibliofile": "biblio.bib",
   "cite_by": "apalike",
   "current_citInitial": 1,
   "eqLabelWithNumbers": true,
   "eqNumInitial": 1,
   "hotkeys": {
    "equation": "Ctrl-E",
    "itemize": "Ctrl-I"
   },
   "labels_anchors": false,
   "latex_user_defs": false,
   "report_style_numbering": false,
   "user_envs_cfg": false
  },
  "nteract": {
   "version": "0.12.3"
  }
 },
 "nbformat": 4,
 "nbformat_minor": 2
}
